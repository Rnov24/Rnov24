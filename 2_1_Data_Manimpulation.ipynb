{
  "nbformat": 4,
  "nbformat_minor": 0,
  "metadata": {
    "colab": {
      "provenance": [],
      "authorship_tag": "ABX9TyM6StLJ2uN/+iXGMcb+KnV4",
      "include_colab_link": true
    },
    "kernelspec": {
      "name": "python3",
      "display_name": "Python 3"
    },
    "language_info": {
      "name": "python"
    }
  },
  "cells": [
    {
      "cell_type": "markdown",
      "metadata": {
        "id": "view-in-github",
        "colab_type": "text"
      },
      "source": [
        "<a href=\"https://colab.research.google.com/github/Rnov24/Rnov24/blob/main/2_1_Data_Manimpulation.ipynb\" target=\"_parent\"><img src=\"https://colab.research.google.com/assets/colab-badge.svg\" alt=\"Open In Colab\"/></a>"
      ]
    },
    {
      "cell_type": "markdown",
      "source": [
        "# 2.1 Data Manipulation"
      ],
      "metadata": {
        "id": "MpQA4EOkRYg-"
      }
    },
    {
      "cell_type": "markdown",
      "source": [
        "## 2.1.1 Getting started\n",
        "\n",
        "Untuk memulai, kita mememerlukan untuk mengimport library **Pytorch**, dengan catatan package-nya bernama `torch`"
      ],
      "metadata": {
        "id": "fyIImb4CRl7R"
      }
    },
    {
      "cell_type": "code",
      "execution_count": 1,
      "metadata": {
        "id": "kGqpLguzQ-jD"
      },
      "outputs": [],
      "source": [
        "import torch"
      ]
    },
    {
      "cell_type": "markdown",
      "source": [
        "**Tensor** merepresentasikan array dari nilai numerik, jika hanya memiliki satu sumbu maka biasa didebut `Vector`, jika meiliki 2 sumbu maka disebut `Matrix`, jika memiliki $k > 2$ sumbu maka disebut juga $k^{th}$-ordo Tensor"
      ],
      "metadata": {
        "id": "HXE8Iqo2UdWL"
      }
    },
    {
      "cell_type": "code",
      "source": [
        "x = torch.arange(12)\n",
        "x"
      ],
      "metadata": {
        "colab": {
          "base_uri": "https://localhost:8080/"
        },
        "id": "58DDrVKkSXWL",
        "outputId": "cd95d6f6-9b83-42f3-f949-b6ff63fe0e18"
      },
      "execution_count": 3,
      "outputs": [
        {
          "output_type": "execute_result",
          "data": {
            "text/plain": [
              "tensor([ 0,  1,  2,  3,  4,  5,  6,  7,  8,  9, 10, 11])"
            ]
          },
          "metadata": {},
          "execution_count": 3
        }
      ]
    },
    {
      "cell_type": "markdown",
      "source": [
        "pada library `Pytorch` data type bawaan dari tensor adalah `float32`, berbeda dengan array pada `numpy` yang memiliki data type bawaan adalah `float64`."
      ],
      "metadata": {
        "id": "6KMrLH_BWM4h"
      }
    },
    {
      "cell_type": "code",
      "source": [
        "import numpy as np\n",
        "\n",
        "np_array = np.random.rand(12)\n",
        "\n",
        "pt_tensor = torch.rand(12)\n",
        "\n",
        "print(\"Numpy array dtype:\", np_array.dtype)\n",
        "print(\"Pytorch tensors dtype:\", pt_tensor.dtype)"
      ],
      "metadata": {
        "colab": {
          "base_uri": "https://localhost:8080/"
        },
        "id": "RlEnkwSmWEhf",
        "outputId": "5a4eb0a5-874d-4996-808d-67f0e49b9857"
      },
      "execution_count": 5,
      "outputs": [
        {
          "output_type": "stream",
          "name": "stdout",
          "text": [
            "Numpy array dtype: float64\n",
            "Pytorch tensors dtype: torch.float32\n"
          ]
        }
      ]
    },
    {
      "cell_type": "markdown",
      "source": [
        "Kita bisa melihat jumlah elemen pada tensor dengan menggunakan `numel`"
      ],
      "metadata": {
        "id": "GRrOPilUX0BM"
      }
    },
    {
      "cell_type": "code",
      "source": [
        "x.numel()"
      ],
      "metadata": {
        "colab": {
          "base_uri": "https://localhost:8080/"
        },
        "id": "ST1G6Fh_XXYA",
        "outputId": "592a31e5-5d70-4c6d-96a1-764cbd5061cd"
      },
      "execution_count": 6,
      "outputs": [
        {
          "output_type": "execute_result",
          "data": {
            "text/plain": [
              "12"
            ]
          },
          "metadata": {},
          "execution_count": 6
        }
      ]
    },
    {
      "cell_type": "markdown",
      "source": [
        "atau bisa dengan menggunakan `shape` untuk mengetahui lebih detail tentang bentuk dan dimensi dri tensor tersebut."
      ],
      "metadata": {
        "id": "zQNLdntMYb6d"
      }
    },
    {
      "cell_type": "code",
      "source": [
        "x.shape"
      ],
      "metadata": {
        "colab": {
          "base_uri": "https://localhost:8080/"
        },
        "id": "Vu_7p6SvYACh",
        "outputId": "9e189aaf-180e-40a0-952b-f31b4d68901b"
      },
      "execution_count": 8,
      "outputs": [
        {
          "output_type": "execute_result",
          "data": {
            "text/plain": [
              "torch.Size([12])"
            ]
          },
          "metadata": {},
          "execution_count": 8
        }
      ]
    },
    {
      "cell_type": "markdown",
      "source": [
        "kita juga bisa merubah bentuk dari tensor tanpa mempengaruhi nilai yang ada didalamnya dengan menggunakan `reshape`."
      ],
      "metadata": {
        "id": "1sTb6gNNZGyH"
      }
    },
    {
      "cell_type": "code",
      "source": [
        "X = x.reshape(3, 4)\n",
        "X"
      ],
      "metadata": {
        "colab": {
          "base_uri": "https://localhost:8080/"
        },
        "id": "fGK-qs7oYthY",
        "outputId": "c629836b-ffb8-44ec-df83-d6055437362e"
      },
      "execution_count": 9,
      "outputs": [
        {
          "output_type": "execute_result",
          "data": {
            "text/plain": [
              "tensor([[ 0,  1,  2,  3],\n",
              "        [ 4,  5,  6,  7],\n",
              "        [ 8,  9, 10, 11]])"
            ]
          },
          "metadata": {},
          "execution_count": 9
        }
      ]
    },
    {
      "cell_type": "markdown",
      "source": [
        "Perhatikan bahwa menentukan setiap komponen bentuk yang akan dibentuk ulang adalah hal yang mubazir. Karena kita sudah mengetahui ukuran tensornya, kita dapat mengerjakan satu komponen bentuk dengan mempertimbangkan komponen lainnya. contoh jika bentuk target adalah $(h, w)$ maka $w = \\frac{N}{h}$. untuk melakukan invers pada tensor bisa ubah `-1` pada salah satu komponen bentuk target. dalam kasus kita, dari pada menggunakan `x.reshape(2, 4)`, kita bisa menggunakan `x.reshape(-1, 4)` atau `x.reshape(3, -1)`.\n"
      ],
      "metadata": {
        "id": "K6TSO3m7Zzft"
      }
    },
    {
      "cell_type": "markdown",
      "source": [
        "para praktisi biasanya memerlukan untuk membangun tensor yang hanya berisi 0 atau satu. untuk membangun tensor berelemen 0 kita hanya perlu memanggil `zeros` dan masukan bentuk yang kita inginkan sebagai argumen, contoh, (2, 3, 4)."
      ],
      "metadata": {
        "id": "yIzV-pLJbsCe"
      }
    },
    {
      "cell_type": "code",
      "source": [
        "torch.zeros((2, 3, 4))"
      ],
      "metadata": {
        "colab": {
          "base_uri": "https://localhost:8080/"
        },
        "id": "hMNnjhaBZFmq",
        "outputId": "000e9b0b-4ad8-4dd1-b647-3f117d455434"
      },
      "execution_count": 10,
      "outputs": [
        {
          "output_type": "execute_result",
          "data": {
            "text/plain": [
              "tensor([[[0., 0., 0., 0.],\n",
              "         [0., 0., 0., 0.],\n",
              "         [0., 0., 0., 0.]],\n",
              "\n",
              "        [[0., 0., 0., 0.],\n",
              "         [0., 0., 0., 0.],\n",
              "         [0., 0., 0., 0.]]])"
            ]
          },
          "metadata": {},
          "execution_count": 10
        }
      ]
    },
    {
      "cell_type": "markdown",
      "source": [
        "sama juga untuk tensor bernilai 1, kita bisa membuatnya dengan `ones`"
      ],
      "metadata": {
        "id": "aQVznsfEcanM"
      }
    },
    {
      "cell_type": "code",
      "source": [
        "torch.ones((2, 3, 4))"
      ],
      "metadata": {
        "colab": {
          "base_uri": "https://localhost:8080/"
        },
        "id": "zWvc_QdTcX7H",
        "outputId": "d9515472-075d-4369-9010-14af961a0a5a"
      },
      "execution_count": 11,
      "outputs": [
        {
          "output_type": "execute_result",
          "data": {
            "text/plain": [
              "tensor([[[1., 1., 1., 1.],\n",
              "         [1., 1., 1., 1.],\n",
              "         [1., 1., 1., 1.]],\n",
              "\n",
              "        [[1., 1., 1., 1.],\n",
              "         [1., 1., 1., 1.],\n",
              "         [1., 1., 1., 1.]]])"
            ]
          },
          "metadata": {},
          "execution_count": 11
        }
      ]
    },
    {
      "cell_type": "markdown",
      "source": [
        "Kita sering kali ingin mengambil sampel setiap elemen secara acak (dan independen) dari distribusi probabilitas tertentu. Misalnya, parameter jaringan saraf sering kali diinisialisasi secara acak. Cuplikan berikut membuat tensor dengan elemen yang diambil dari distribusi standar Gaussian (normal) dengan mean 0 dan deviasi standar 1."
      ],
      "metadata": {
        "id": "m699kHI8c5KL"
      }
    },
    {
      "cell_type": "code",
      "source": [
        "torch.randn(3, 4)"
      ],
      "metadata": {
        "colab": {
          "base_uri": "https://localhost:8080/"
        },
        "id": "r6wBxwGecqDI",
        "outputId": "6c6939e0-06ea-417e-8f7e-e5e8d7e3e03b"
      },
      "execution_count": 12,
      "outputs": [
        {
          "output_type": "execute_result",
          "data": {
            "text/plain": [
              "tensor([[-0.8024, -1.0762, -0.3228, -0.3029],\n",
              "        [-0.0358,  1.4118,  1.0173,  1.7826],\n",
              "        [ 0.2079, -3.1952,  0.5114, -1.0757]])"
            ]
          },
          "metadata": {},
          "execution_count": 12
        }
      ]
    },
    {
      "cell_type": "markdown",
      "source": [
        "Terakhir, kita dapat membuat tensor dengan memberikan nilai yang tepat untuk setiap elemen dengan menyediakan daftar Python (mungkin bersarang) yang berisi literal numerik. Di sini, kita membuat matriks dengan daftar daftar, di mana daftar terluar berhubungan dengan sumbu 0, dan daftar dalam berhubungan dengan sumbu 1."
      ],
      "metadata": {
        "id": "IY-OK7ttdGVW"
      }
    },
    {
      "cell_type": "code",
      "source": [
        "torch.tensor([[2, 1, 4, 3], [1, 2, 3, 4], [4, 3, 2, 1]])"
      ],
      "metadata": {
        "colab": {
          "base_uri": "https://localhost:8080/"
        },
        "id": "hpLElP6ec8hM",
        "outputId": "d6eb7cc7-a621-4029-e9d1-a0e46d1995d4"
      },
      "execution_count": 13,
      "outputs": [
        {
          "output_type": "execute_result",
          "data": {
            "text/plain": [
              "tensor([[2, 1, 4, 3],\n",
              "        [1, 2, 3, 4],\n",
              "        [4, 3, 2, 1]])"
            ]
          },
          "metadata": {},
          "execution_count": 13
        }
      ]
    },
    {
      "cell_type": "code",
      "source": [],
      "metadata": {
        "id": "yx1hPrdIdJiR"
      },
      "execution_count": null,
      "outputs": []
    }
  ]
}