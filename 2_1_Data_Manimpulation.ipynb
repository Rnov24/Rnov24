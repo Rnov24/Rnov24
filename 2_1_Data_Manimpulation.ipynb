{
  "nbformat": 4,
  "nbformat_minor": 0,
  "metadata": {
    "colab": {
      "provenance": [],
      "collapsed_sections": [
        "fyIImb4CRl7R",
        "Q2LNinuIq-sv",
        "iprZ1MIdvpjD"
      ],
      "authorship_tag": "ABX9TyNr6Gs9qtoSH+Y5s8sH+frI",
      "include_colab_link": true
    },
    "kernelspec": {
      "name": "python3",
      "display_name": "Python 3"
    },
    "language_info": {
      "name": "python"
    }
  },
  "cells": [
    {
      "cell_type": "markdown",
      "metadata": {
        "id": "view-in-github",
        "colab_type": "text"
      },
      "source": [
        "<a href=\"https://colab.research.google.com/github/Rnov24/Rnov24/blob/main/2_1_Data_Manimpulation.ipynb\" target=\"_parent\"><img src=\"https://colab.research.google.com/assets/colab-badge.svg\" alt=\"Open In Colab\"/></a>"
      ]
    },
    {
      "cell_type": "markdown",
      "source": [
        "# 2.1 Data Manipulation"
      ],
      "metadata": {
        "id": "MpQA4EOkRYg-"
      }
    },
    {
      "cell_type": "markdown",
      "source": [
        "## 2.1.1 Getting started\n",
        "\n"
      ],
      "metadata": {
        "id": "fyIImb4CRl7R"
      }
    },
    {
      "cell_type": "markdown",
      "source": [
        "Untuk memulai, kita mememerlukan untuk mengimport library **Pytorch**, dengan catatan package-nya bernama `torch`"
      ],
      "metadata": {
        "id": "YP7_KUSasBcg"
      }
    },
    {
      "cell_type": "code",
      "execution_count": 35,
      "metadata": {
        "id": "kGqpLguzQ-jD"
      },
      "outputs": [],
      "source": [
        "import torch"
      ]
    },
    {
      "cell_type": "markdown",
      "source": [
        "**Tensor** merepresentasikan array dari nilai numerik, jika hanya memiliki satu sumbu maka biasa didebut `Vector`, jika meiliki 2 sumbu maka disebut `Matrix`, jika memiliki $k > 2$ sumbu maka disebut juga $k^{th}$-ordo Tensor"
      ],
      "metadata": {
        "id": "HXE8Iqo2UdWL"
      }
    },
    {
      "cell_type": "code",
      "source": [
        "x = torch.arange(12)\n",
        "x"
      ],
      "metadata": {
        "colab": {
          "base_uri": "https://localhost:8080/"
        },
        "id": "58DDrVKkSXWL",
        "outputId": "85053343-e75e-4401-9a23-eeec6fba0d19"
      },
      "execution_count": 36,
      "outputs": [
        {
          "output_type": "execute_result",
          "data": {
            "text/plain": [
              "tensor([ 0,  1,  2,  3,  4,  5,  6,  7,  8,  9, 10, 11])"
            ]
          },
          "metadata": {},
          "execution_count": 36
        }
      ]
    },
    {
      "cell_type": "markdown",
      "source": [
        "pada library `Pytorch` data type bawaan untuk tensor adalah `float32`, berbeda dengan array pada `numpy` yang memiliki data type bawaan adalah `float64`."
      ],
      "metadata": {
        "id": "6KMrLH_BWM4h"
      }
    },
    {
      "cell_type": "code",
      "source": [
        "import numpy as np\n",
        "\n",
        "np_array = np.random.rand(12)\n",
        "\n",
        "pt_tensor = torch.rand(12)\n",
        "\n",
        "print(\"Numpy array dtype:\", np_array.dtype)\n",
        "print(\"Pytorch tensors dtype:\", pt_tensor.dtype)"
      ],
      "metadata": {
        "colab": {
          "base_uri": "https://localhost:8080/"
        },
        "id": "RlEnkwSmWEhf",
        "outputId": "7f2e0e0c-6e95-4d9d-d18e-24ab590df997"
      },
      "execution_count": 37,
      "outputs": [
        {
          "output_type": "stream",
          "name": "stdout",
          "text": [
            "Numpy array dtype: float64\n",
            "Pytorch tensors dtype: torch.float32\n"
          ]
        }
      ]
    },
    {
      "cell_type": "markdown",
      "source": [
        "Kita bisa melihat jumlah elemen pada tensor dengan menggunakan `numel`"
      ],
      "metadata": {
        "id": "GRrOPilUX0BM"
      }
    },
    {
      "cell_type": "code",
      "source": [
        "x.numel()"
      ],
      "metadata": {
        "colab": {
          "base_uri": "https://localhost:8080/"
        },
        "id": "ST1G6Fh_XXYA",
        "outputId": "53887868-3ae7-477f-ba71-ee586f23ab05"
      },
      "execution_count": 38,
      "outputs": [
        {
          "output_type": "execute_result",
          "data": {
            "text/plain": [
              "12"
            ]
          },
          "metadata": {},
          "execution_count": 38
        }
      ]
    },
    {
      "cell_type": "markdown",
      "source": [
        "atau bisa dengan menggunakan `shape` untuk mengetahui lebih detail tentang bentuk dan dimensi dri tensor tersebut."
      ],
      "metadata": {
        "id": "zQNLdntMYb6d"
      }
    },
    {
      "cell_type": "code",
      "source": [
        "x.shape"
      ],
      "metadata": {
        "colab": {
          "base_uri": "https://localhost:8080/"
        },
        "id": "Vu_7p6SvYACh",
        "outputId": "4c1e810a-91ea-4a9f-a84e-5bd73924235f"
      },
      "execution_count": 39,
      "outputs": [
        {
          "output_type": "execute_result",
          "data": {
            "text/plain": [
              "torch.Size([12])"
            ]
          },
          "metadata": {},
          "execution_count": 39
        }
      ]
    },
    {
      "cell_type": "markdown",
      "source": [
        "kita juga bisa merubah bentuk dari tensor tanpa mempengaruhi nilai yang ada didalamnya dengan menggunakan `reshape`."
      ],
      "metadata": {
        "id": "1sTb6gNNZGyH"
      }
    },
    {
      "cell_type": "code",
      "source": [
        "X = x.reshape(3, 4)\n",
        "X"
      ],
      "metadata": {
        "colab": {
          "base_uri": "https://localhost:8080/"
        },
        "id": "fGK-qs7oYthY",
        "outputId": "2a519d16-19aa-460a-c36b-161eb4540d33"
      },
      "execution_count": 40,
      "outputs": [
        {
          "output_type": "execute_result",
          "data": {
            "text/plain": [
              "tensor([[ 0,  1,  2,  3],\n",
              "        [ 4,  5,  6,  7],\n",
              "        [ 8,  9, 10, 11]])"
            ]
          },
          "metadata": {},
          "execution_count": 40
        }
      ]
    },
    {
      "cell_type": "markdown",
      "source": [
        "Perhatikan bahwa menentukan setiap komponen bentuk yang akan dibentuk ulang adalah hal yang mubazir. Karena kita sudah mengetahui ukuran tensornya, kita dapat mengerjakan satu komponen bentuk dengan mempertimbangkan komponen lainnya. contoh jika bentuk target adalah $(h, w)$ maka $w = \\frac{N}{h}$. untuk melakukan invers pada tensor bisa ubah `-1` pada salah satu komponen bentuk target. dalam kasus kita, dari pada menggunakan `x.reshape(2, 4)`, kita bisa menggunakan `x.reshape(-1, 4)` atau `x.reshape(3, -1)`.\n"
      ],
      "metadata": {
        "id": "K6TSO3m7Zzft"
      }
    },
    {
      "cell_type": "markdown",
      "source": [
        "para praktisi biasanya memerlukan untuk membangun tensor yang hanya berisi 0 atau satu. untuk membangun tensor berelemen 0 kita hanya perlu memanggil `zeros` dan masukan bentuk yang kita inginkan sebagai argumen, contoh, (2, 3, 4)."
      ],
      "metadata": {
        "id": "yIzV-pLJbsCe"
      }
    },
    {
      "cell_type": "code",
      "source": [
        "torch.zeros((2, 3, 4))"
      ],
      "metadata": {
        "colab": {
          "base_uri": "https://localhost:8080/"
        },
        "id": "hMNnjhaBZFmq",
        "outputId": "acaf5aef-6dda-4fd7-a075-20aeb6c6b09b"
      },
      "execution_count": 41,
      "outputs": [
        {
          "output_type": "execute_result",
          "data": {
            "text/plain": [
              "tensor([[[0., 0., 0., 0.],\n",
              "         [0., 0., 0., 0.],\n",
              "         [0., 0., 0., 0.]],\n",
              "\n",
              "        [[0., 0., 0., 0.],\n",
              "         [0., 0., 0., 0.],\n",
              "         [0., 0., 0., 0.]]])"
            ]
          },
          "metadata": {},
          "execution_count": 41
        }
      ]
    },
    {
      "cell_type": "markdown",
      "source": [
        "sama juga untuk tensor bernilai 1, kita bisa membuatnya dengan `ones`"
      ],
      "metadata": {
        "id": "aQVznsfEcanM"
      }
    },
    {
      "cell_type": "code",
      "source": [
        "torch.ones((2, 3, 4))"
      ],
      "metadata": {
        "colab": {
          "base_uri": "https://localhost:8080/"
        },
        "id": "zWvc_QdTcX7H",
        "outputId": "1dbedbb2-87cb-4db0-d3ff-c1e1fcdca427"
      },
      "execution_count": 42,
      "outputs": [
        {
          "output_type": "execute_result",
          "data": {
            "text/plain": [
              "tensor([[[1., 1., 1., 1.],\n",
              "         [1., 1., 1., 1.],\n",
              "         [1., 1., 1., 1.]],\n",
              "\n",
              "        [[1., 1., 1., 1.],\n",
              "         [1., 1., 1., 1.],\n",
              "         [1., 1., 1., 1.]]])"
            ]
          },
          "metadata": {},
          "execution_count": 42
        }
      ]
    },
    {
      "cell_type": "markdown",
      "source": [
        "Kita sering kali ingin mengambil sampel setiap elemen secara acak (dan independen) dari distribusi probabilitas tertentu. Misalnya, parameter jaringan saraf sering kali diinisialisasi secara acak. Cuplikan berikut membuat tensor dengan elemen yang diambil dari distribusi standar Gaussian (normal) dengan mean 0 dan deviasi standar 1."
      ],
      "metadata": {
        "id": "m699kHI8c5KL"
      }
    },
    {
      "cell_type": "code",
      "source": [
        "torch.randn(3, 4)"
      ],
      "metadata": {
        "colab": {
          "base_uri": "https://localhost:8080/"
        },
        "id": "r6wBxwGecqDI",
        "outputId": "6f257494-4db0-4c37-f0c3-b5261a23c906"
      },
      "execution_count": 43,
      "outputs": [
        {
          "output_type": "execute_result",
          "data": {
            "text/plain": [
              "tensor([[ 0.3551, -1.3021,  0.4571, -2.2521],\n",
              "        [ 0.6313, -1.1650,  1.7411, -0.9844],\n",
              "        [ 0.6880,  0.2021,  2.2325, -0.4504]])"
            ]
          },
          "metadata": {},
          "execution_count": 43
        }
      ]
    },
    {
      "cell_type": "markdown",
      "source": [
        "Terakhir, kita dapat membuat tensor dengan memberikan nilai yang tepat untuk setiap elemen dengan menyediakan daftar Python (mungkin bersarang) yang berisi literal numerik. Di sini, kita membuat matriks dengan daftar daftar, di mana daftar terluar berhubungan dengan sumbu 0, dan daftar dalam berhubungan dengan sumbu 1."
      ],
      "metadata": {
        "id": "IY-OK7ttdGVW"
      }
    },
    {
      "cell_type": "code",
      "source": [
        "torch.tensor([[2, 1, 4, 3], [1, 2, 3, 4], [4, 3, 2, 1]])"
      ],
      "metadata": {
        "colab": {
          "base_uri": "https://localhost:8080/"
        },
        "id": "hpLElP6ec8hM",
        "outputId": "1ce87002-ba6a-43b8-f1e2-7126e8674694"
      },
      "execution_count": 44,
      "outputs": [
        {
          "output_type": "execute_result",
          "data": {
            "text/plain": [
              "tensor([[2, 1, 4, 3],\n",
              "        [1, 2, 3, 4],\n",
              "        [4, 3, 2, 1]])"
            ]
          },
          "metadata": {},
          "execution_count": 44
        }
      ]
    },
    {
      "cell_type": "markdown",
      "source": [
        "## 2.1.2  Indexing and Slicing\n"
      ],
      "metadata": {
        "id": "Q2LNinuIq-sv"
      }
    },
    {
      "cell_type": "markdown",
      "source": [
        "Layaknya python list, kita dapat mengakses elemen pada tensor menggunakan indexing (mulai dari 0). Untuk mengakses elemen berdasarkan akhir dari tensor bisa menggunakan negatif index. Terakhir, kita dapat mengakses seluruh elemen dalam jangka tertentu menggunakan slicing (contohnya, `X[start : stop]`), dimana akan mengeluarkan elemen pertama dari index (`Start`) tapi tidak mengeluarkan elemen dari index terakhir (`stop`).\n",
        "\n",
        "\n"
      ],
      "metadata": {
        "id": "KFWel1QfsHDl"
      }
    },
    {
      "cell_type": "code",
      "source": [
        "X[-1], X[1:3]"
      ],
      "metadata": {
        "id": "yx1hPrdIdJiR",
        "colab": {
          "base_uri": "https://localhost:8080/"
        },
        "outputId": "5d8960a9-263c-4659-b5e0-06069d22d0d3"
      },
      "execution_count": 45,
      "outputs": [
        {
          "output_type": "execute_result",
          "data": {
            "text/plain": [
              "(tensor([ 8,  9, 10, 11]),\n",
              " tensor([[ 4,  5,  6,  7],\n",
              "         [ 8,  9, 10, 11]]))"
            ]
          },
          "metadata": {},
          "execution_count": 45
        }
      ]
    },
    {
      "cell_type": "markdown",
      "source": [
        "Bukan hanya membaca, kita juga dapat mengubah nilai dari sebuah elemen menggunakan indexing\n"
      ],
      "metadata": {
        "id": "oeMTNIWzuWf_"
      }
    },
    {
      "cell_type": "code",
      "source": [
        "X[1][2] = 17\n",
        "X"
      ],
      "metadata": {
        "id": "GaG1e2g3tCcU",
        "colab": {
          "base_uri": "https://localhost:8080/"
        },
        "outputId": "77a4f171-8092-421c-bcfc-d03bcd94b314"
      },
      "execution_count": 46,
      "outputs": [
        {
          "output_type": "execute_result",
          "data": {
            "text/plain": [
              "tensor([[ 0,  1,  2,  3],\n",
              "        [ 4,  5, 17,  7],\n",
              "        [ 8,  9, 10, 11]])"
            ]
          },
          "metadata": {},
          "execution_count": 46
        }
      ]
    },
    {
      "cell_type": "markdown",
      "source": [
        "Jika kita ingin menetapkan nilai yang sama pada beberapa elemen, kita menerapkan pengindeksan di sisi kiri operasi penetapan. Misalnya, `[:2, :]` mengakses baris pertama dan kedua, dimana : mengambil semua elemen sepanjang sumbu 1 (kolom). Meskipun kita telah membahas pengindeksan matriks, hal ini juga berlaku untuk vektor dan tensor yang lebih dari dua dimensi."
      ],
      "metadata": {
        "id": "w409AIUVvBps"
      }
    },
    {
      "cell_type": "code",
      "source": [
        "X[:2, :] = 12\n",
        "X"
      ],
      "metadata": {
        "colab": {
          "base_uri": "https://localhost:8080/"
        },
        "id": "2xiTNy2Nur4x",
        "outputId": "529c6c6a-1d19-410c-9303-6083e0bf8ac4"
      },
      "execution_count": 47,
      "outputs": [
        {
          "output_type": "execute_result",
          "data": {
            "text/plain": [
              "tensor([[12, 12, 12, 12],\n",
              "        [12, 12, 12, 12],\n",
              "        [ 8,  9, 10, 11]])"
            ]
          },
          "metadata": {},
          "execution_count": 47
        }
      ]
    },
    {
      "cell_type": "markdown",
      "source": [
        "## 2.1.3 Operations"
      ],
      "metadata": {
        "id": "iprZ1MIdvpjD"
      }
    },
    {
      "cell_type": "markdown",
      "source": [
        "Sekarang setelah kita mengetahui cara membuat tensor dan cara membaca dan menulis elemennya, kita dapat mulai memanipulasinya dengan berbagai operasi matematika. Di antara yang paling berguna adalah operasi elemen. Ini menerapkan operasi skalar standar untuk setiap elemen tensor. Untuk fungsi yang menggunakan dua tensor sebagai masukan, operasi elemen menerapkan beberapa operator biner standar pada setiap pasangan elemen yang bersesuaian. Kita dapat membuat fungsi berdasarkan elemen dari fungsi apa pun yang memetakan dari skalar ke skalar.\n",
        "\n",
        "Dalam notasi matematika, kami menunjukkan operator skalar unary (mengambil satu input) dengan signature $f : \\mathbf{R}→ \\mathbf{R}$\n",
        ". Artinya, fungsi tersebut dipetakan dari bilangan real mana pun ke bilangan real lainnya. Kebanyakan operator standar, termasuk yang unary sejenisnya\n",
        ", $e^x$ dapat diterapkan secara elemen."
      ],
      "metadata": {
        "id": "g4lyRoOzvueX"
      }
    },
    {
      "cell_type": "code",
      "source": [
        "torch.exp(x)"
      ],
      "metadata": {
        "colab": {
          "base_uri": "https://localhost:8080/"
        },
        "id": "9DMy8g5gvJm7",
        "outputId": "1657a6d1-0fec-4647-c8d2-81b08c5cca28"
      },
      "execution_count": 48,
      "outputs": [
        {
          "output_type": "execute_result",
          "data": {
            "text/plain": [
              "tensor([162754.7969, 162754.7969, 162754.7969, 162754.7969, 162754.7969,\n",
              "        162754.7969, 162754.7969, 162754.7969,   2980.9580,   8103.0840,\n",
              "         22026.4648,  59874.1406])"
            ]
          },
          "metadata": {},
          "execution_count": 48
        }
      ]
    },
    {
      "cell_type": "markdown",
      "source": [
        "Demikian pula, kami menyatakan operator skalar *biner*,\n",
        "yang memetakan pasangan bilangan real\n",
        "ke bilangan real (tunggal).\n",
        "melalui tanda tangan\n",
        "$f: \\mathbb{R}, \\mathbb{R} \\rightarrow \\mathbb{R}$.\n",
        "Diberikan dua vektor $\\mathbf{u}$\n",
        "dan $\\mathbf{v}$ *berbentuk sama*,\n",
        "dan operator biner $f$, kita dapat menghasilkan vektor\n",
        "$\\mathbf{c} = F(\\mathbf{u},\\mathbf{v})$\n",
        "dengan mengatur $c_i \\gets f(u_i, v_i)$ untuk semua $i$,\n",
        "dimana $c_i, u_i$, dan $v_i$ adalah elemen $i^\\textrm{th}$\n",
        "dari vektor $\\mathbf{c}, \\mathbf{u}$, dan $\\mathbf{v}$.\n",
        "Di sini, kami menghasilkan nilai vektor\n",
        "$F: \\mathbb{R}^d, \\mathbb{R}^d \\rightarrow \\mathbb{R}^d$\n",
        "dengan *menaikkan* fungsi skalar\n",
        "ke operasi vektor berdasarkan elemen.\n",
        "Operator aritmatika standar umum\n",
        "untuk penjumlahan (`+`), pengurangan (`-`),\n",
        "perkalian (`*`), pembagian (`/`),\n",
        "dan eksponensial (`**`)\n",
        "semuanya telah *diangkat* ke operasi elemen\n",
        "untuk tensor berbentuk identik dengan bentuk sembarang."
      ],
      "metadata": {
        "id": "NQyJQ2wbxXpK"
      }
    },
    {
      "cell_type": "code",
      "source": [
        "x = torch.tensor([1.0, 2, 4, 8])\n",
        "y = torch.tensor([2, 2, 2, 2])\n",
        "x + y, x - y, x * y, x / y, x ** y"
      ],
      "metadata": {
        "colab": {
          "base_uri": "https://localhost:8080/"
        },
        "id": "fHCnF3Prw23l",
        "outputId": "ff578e2a-77e5-4d85-e06c-1858e52cd30d"
      },
      "execution_count": 49,
      "outputs": [
        {
          "output_type": "execute_result",
          "data": {
            "text/plain": [
              "(tensor([ 3.,  4.,  6., 10.]),\n",
              " tensor([-1.,  0.,  2.,  6.]),\n",
              " tensor([ 2.,  4.,  8., 16.]),\n",
              " tensor([0.5000, 1.0000, 2.0000, 4.0000]),\n",
              " tensor([ 1.,  4., 16., 64.]))"
            ]
          },
          "metadata": {},
          "execution_count": 49
        }
      ]
    },
    {
      "cell_type": "markdown",
      "source": [
        "Selain perhitungan elemen,\n",
        "kita juga dapat melakukan operasi aljabar linier,\n",
        "seperti perkalian titik dan perkalian matriks..\n",
        "\n",
        "Kita juga dapat **menggabungkan beberapa tensor,**\n",
        "menumpuknya dari ujung ke ujung untuk membentuk yang lebih besar.\n",
        "Kami hanya perlu memberikan daftar tensor\n",
        "dan beri tahu sistem di sepanjang sumbu mana yang akan digabungkan.\n",
        "Contoh di bawah menunjukkan apa yang terjadi ketika kita menggabungkan\n",
        "dua matriks sepanjang baris (sumbu 0)\n",
        "bukannya kolom (sumbu 1).\n",
        "Kita dapat melihat bahwa panjang sumbu-0 keluaran pertama ($6$)\n",
        "adalah jumlah dari dua panjang sumbu-0 tensor masukan ($3 + 3$);\n",
        "sedangkan panjang sumbu-1 keluaran kedua ($8$)\n",
        "adalah jumlah dari dua panjang sumbu-1 tensor masukan ($4 + 4$).\n"
      ],
      "metadata": {
        "id": "9Re5lcFcyawE"
      }
    },
    {
      "cell_type": "code",
      "source": [
        "X = torch.arange(12, dtype=torch.float32).reshape((3,4))\n",
        "Y = torch.tensor([[2.0, 1, 4, 3], [1, 2, 3, 4], [4, 3, 2, 1]])\n",
        "torch.cat((X, Y), dim=0), torch.cat((X, Y), dim=1)"
      ],
      "metadata": {
        "colab": {
          "base_uri": "https://localhost:8080/"
        },
        "id": "4182Rlm_xwdi",
        "outputId": "6edc7508-cbea-4034-b4f1-54d5d0697772"
      },
      "execution_count": 50,
      "outputs": [
        {
          "output_type": "execute_result",
          "data": {
            "text/plain": [
              "(tensor([[ 0.,  1.,  2.,  3.],\n",
              "         [ 4.,  5.,  6.,  7.],\n",
              "         [ 8.,  9., 10., 11.],\n",
              "         [ 2.,  1.,  4.,  3.],\n",
              "         [ 1.,  2.,  3.,  4.],\n",
              "         [ 4.,  3.,  2.,  1.]]),\n",
              " tensor([[ 0.,  1.,  2.,  3.,  2.,  1.,  4.,  3.],\n",
              "         [ 4.,  5.,  6.,  7.,  1.,  2.,  3.,  4.],\n",
              "         [ 8.,  9., 10., 11.,  4.,  3.,  2.,  1.]]))"
            ]
          },
          "metadata": {},
          "execution_count": 50
        }
      ]
    },
    {
      "cell_type": "markdown",
      "source": [
        "**membuat tensor biner melalui *pernyataan logis*.**\n",
        "Ambil `X == Y` sebagai contoh.\n",
        "Untuk setiap posisi `i, j`, jika `X[i, j]` dan `Y[i, j]` sama,\n",
        "maka entri yang sesuai dalam hasil mengambil nilai `1`,\n",
        "jika tidak, dibutuhkan nilai `0`."
      ],
      "metadata": {
        "id": "6QhoTyl_zTcT"
      }
    },
    {
      "cell_type": "code",
      "source": [
        "X == Y"
      ],
      "metadata": {
        "colab": {
          "base_uri": "https://localhost:8080/"
        },
        "id": "6sSi5CFNzNT7",
        "outputId": "4067cabe-109f-4e3b-ddec-c673a9338e2a"
      },
      "execution_count": 51,
      "outputs": [
        {
          "output_type": "execute_result",
          "data": {
            "text/plain": [
              "tensor([[False,  True, False,  True],\n",
              "        [False, False, False, False],\n",
              "        [False, False, False, False]])"
            ]
          },
          "metadata": {},
          "execution_count": 51
        }
      ]
    },
    {
      "cell_type": "markdown",
      "source": [
        "**Menjumlahkan semua elemen dalam tensor** menghasilkan tensor dengan hanya satu elemen."
      ],
      "metadata": {
        "id": "KmL9E_zzzqnP"
      }
    },
    {
      "cell_type": "code",
      "source": [
        "X.sum()"
      ],
      "metadata": {
        "colab": {
          "base_uri": "https://localhost:8080/"
        },
        "id": "4Fguuw89zgI_",
        "outputId": "8a907c72-593b-4e36-e052-4d7c30e9340b"
      },
      "execution_count": 52,
      "outputs": [
        {
          "output_type": "execute_result",
          "data": {
            "text/plain": [
              "tensor(66.)"
            ]
          },
          "metadata": {},
          "execution_count": 52
        }
      ]
    },
    {
      "cell_type": "markdown",
      "source": [
        "## 2.1.4 Broadcasting"
      ],
      "metadata": {
        "id": "n-ejQ-5dJqU_"
      }
    },
    {
      "cell_type": "markdown",
      "source": [
        "dalam kondisi tertenu, walaupun tensor memiliki bentuk yang berbeda, kta tetap dapat menggunakan *elementwise binary operation* dengan cara memanggil *broadcasting mechanism*. Broadcasting bekerja mengikuti 2 prosedur:\n",
        "\n",
        "\n",
        "1.   Expand salah satu atau kedua tensor dengan menyalin elemen sepanjang sumbu yang memiliki panjang 1. dengan begitu kedua tensor memiliki bentuk yang sama.\n",
        "2.   Gunakan *elementwise operation* pada array hasil.\n",
        "\n"
      ],
      "metadata": {
        "id": "zx5j69__Kl-H"
      }
    },
    {
      "cell_type": "code",
      "source": [
        "a = torch.arange(3).reshape((3, 1))\n",
        "b = torch.arange(2).reshape((1, 2))\n",
        "a, b"
      ],
      "metadata": {
        "id": "W0erVJljzuDo",
        "colab": {
          "base_uri": "https://localhost:8080/"
        },
        "outputId": "23f68ec6-974a-4e49-d3ab-2229f36b7eec"
      },
      "execution_count": 53,
      "outputs": [
        {
          "output_type": "execute_result",
          "data": {
            "text/plain": [
              "(tensor([[0],\n",
              "         [1],\n",
              "         [2]]),\n",
              " tensor([[0, 1]]))"
            ]
          },
          "metadata": {},
          "execution_count": 53
        }
      ]
    },
    {
      "cell_type": "markdown",
      "source": [
        "dengan menggunakan *broadcasting mechanism*, kita dapat membuat tensor a dan b memiki bentuk yang sama ya itu `(3, 2)`. Dengan begitu kita dapat melakukan *elementwise operation*"
      ],
      "metadata": {
        "id": "0_iXY6rcTT0y"
      }
    },
    {
      "cell_type": "code",
      "source": [
        "a + b"
      ],
      "metadata": {
        "colab": {
          "base_uri": "https://localhost:8080/"
        },
        "id": "jRY0x5VwOkcC",
        "outputId": "c6f8649d-3bed-434b-ee84-8869ff11e571"
      },
      "execution_count": 54,
      "outputs": [
        {
          "output_type": "execute_result",
          "data": {
            "text/plain": [
              "tensor([[0, 1],\n",
              "        [1, 2],\n",
              "        [2, 3]])"
            ]
          },
          "metadata": {},
          "execution_count": 54
        }
      ]
    },
    {
      "cell_type": "markdown",
      "source": [
        "## 2.1.5 Saving Memory"
      ],
      "metadata": {
        "id": "D_SYibC84h6f"
      }
    },
    {
      "cell_type": "markdown",
      "source": [
        "Menjalankan operasi bisa menyebabkan alokasi memori baru untuk menyimpan hasil. Contohnya, jika kita menulis $Y = X + Y$, kita menghapus referensi tensor yang sebelumnya ditunjuk oleh $Y$ dan mengarahkan $Y$ ke memori baru yang dialokasikan.\n",
        "\n",
        "Kita bisa melihat hal ini menggunakan fungsi `id()` di Python, yang memberikan alamat persis dari objek yang direferensikan dalam memori. Perhatikan bahwa setelah menjalankan $Y = Y + X$, `id(Y)` akan menunjuk ke lokasi yang berbeda. Hal ini terjadi karena Python pertama-tama mengevaluasi $Y + X$, mengalokasikan memori baru untuk hasilnya, dan kemudian menunjuk $Y$ ke lokasi baru di memori tersebut.\n"
      ],
      "metadata": {
        "id": "wipdPT9l6p8u"
      }
    },
    {
      "cell_type": "code",
      "source": [
        "before = id(Y)\n",
        "Y = Y + X\n",
        "id(Y) == before"
      ],
      "metadata": {
        "id": "eTynLmH3Tzzy",
        "colab": {
          "base_uri": "https://localhost:8080/"
        },
        "outputId": "10c23be5-3194-4a0f-ecda-9ac393514c76"
      },
      "execution_count": 55,
      "outputs": [
        {
          "output_type": "execute_result",
          "data": {
            "text/plain": [
              "False"
            ]
          },
          "metadata": {},
          "execution_count": 55
        }
      ]
    },
    {
      "cell_type": "markdown",
      "source": [
        "Hal ini mungkin tidak diinginkan karena dua alasan. Pertama, kita tidak ingin terus-menerus mengalokasikan memori secara tidak perlu. Dalam pembelajaran mesin, kita sering memiliki ratusan megabyte parameter dan memperbarui semuanya berkali-kali per detik. Oleh karena itu, setiap kali memungkinkan, kita ingin melakukan pembaruan ini secara langsung (in place).\n",
        "\n",
        "Kedua, kita mungkin menunjuk ke parameter yang sama dari beberapa variabel. Jika kita tidak melakukan pembaruan secara langsung, kita harus berhati-hati untuk memperbarui semua referensi ini, agar tidak terjadi kebocoran memori atau tanpa sengaja merujuk pada parameter yang sudah usang.\n"
      ],
      "metadata": {
        "id": "dS4QlfcT8ZxU"
      }
    },
    {
      "cell_type": "markdown",
      "source": [
        "Untungnya, melakukan operasi secara langsung (in-place) itu mudah. Kita bisa menetapkan hasil dari suatu operasi ke array yang sudah dialokasikan sebelumnya, $Y$, dengan menggunakan notasi irisan (slice notation): $Y[:] = \\text{<expression>}$.\n",
        "\n",
        "Untuk mengilustrasikan konsep ini, kita akan menimpa nilai tensor $Z$, setelah menginisialisasinya dengan fungsi `zeros_like`, agar memiliki bentuk yang sama dengan $Y$.\n"
      ],
      "metadata": {
        "id": "7iwNCd0a8kvA"
      }
    },
    {
      "cell_type": "code",
      "source": [
        "Z = torch.zeros_like(Y)\n",
        "print('id(Z):', id(Z))\n",
        "Z[:] = X + Y\n",
        "print('id(Z):', id(Z))"
      ],
      "metadata": {
        "colab": {
          "base_uri": "https://localhost:8080/"
        },
        "id": "h2s648GQ4ol4",
        "outputId": "c20ac773-e374-45b9-c5c4-d1a1a8158329"
      },
      "execution_count": 56,
      "outputs": [
        {
          "output_type": "stream",
          "name": "stdout",
          "text": [
            "id(Z): 137815412393680\n",
            "id(Z): 137815412393680\n"
          ]
        }
      ]
    },
    {
      "cell_type": "markdown",
      "source": [
        "Jika nilai dari $X$ tidak digunakan kembali dalam perhitungan selanjutnya, kita juga bisa menggunakan $X[:] = X + Y$ atau $X \\mathrel{+}= Y$ untuk mengurangi beban memori dari operasi tersebut."
      ],
      "metadata": {
        "id": "TD7tQoGw9Vmv"
      }
    },
    {
      "cell_type": "code",
      "source": [
        "before = id(X)\n",
        "X += Y\n",
        "id(X) == before"
      ],
      "metadata": {
        "colab": {
          "base_uri": "https://localhost:8080/"
        },
        "id": "P_UVjpCH8sWR",
        "outputId": "de093486-53a4-4026-a8b0-5a8415659c90"
      },
      "execution_count": 57,
      "outputs": [
        {
          "output_type": "execute_result",
          "data": {
            "text/plain": [
              "True"
            ]
          },
          "metadata": {},
          "execution_count": 57
        }
      ]
    },
    {
      "cell_type": "markdown",
      "source": [
        "## 2.1.6 Conversion to Other Python Objects"
      ],
      "metadata": {
        "id": "ERFLxw9t-hHa"
      }
    },
    {
      "cell_type": "markdown",
      "source": [
        "Mengonversi ke tensor NumPy (ndarray), atau sebaliknya, itu mudah. Tensor dari PyTorch dan array NumPy akan berbagi memori dasar mereka, sehingga mengubah salah satunya melalui operasi secara langsung (in-place) juga akan mengubah yang lainnya.\n"
      ],
      "metadata": {
        "id": "X5ofTJTk-rOM"
      }
    },
    {
      "cell_type": "code",
      "source": [
        "A = X.numpy()\n",
        "B = torch.from_numpy(A)\n",
        "type(A), type(B)"
      ],
      "metadata": {
        "colab": {
          "base_uri": "https://localhost:8080/"
        },
        "id": "6NaoEXyA-GHl",
        "outputId": "52a1f923-b944-4791-c77e-3fdca48209c8"
      },
      "execution_count": 58,
      "outputs": [
        {
          "output_type": "execute_result",
          "data": {
            "text/plain": [
              "(numpy.ndarray, torch.Tensor)"
            ]
          },
          "metadata": {},
          "execution_count": 58
        }
      ]
    },
    {
      "cell_type": "markdown",
      "source": [
        "Untuk mengonversi tensor ukuran-1 menjadi skalar Python, kita bisa menggunakan fungsi `item()` atau fungsi bawaan Python.\n"
      ],
      "metadata": {
        "id": "2-bMDjKe-41K"
      }
    },
    {
      "cell_type": "code",
      "source": [
        "a = torch.tensor([3.5])\n",
        "a, a.item(), float(a), int(a)"
      ],
      "metadata": {
        "colab": {
          "base_uri": "https://localhost:8080/"
        },
        "id": "Zrmn-kVe-wla",
        "outputId": "79f01069-bdff-4054-9b00-f685b4d603c8"
      },
      "execution_count": 59,
      "outputs": [
        {
          "output_type": "execute_result",
          "data": {
            "text/plain": [
              "(tensor([3.5000]), 3.5, 3.5, 3)"
            ]
          },
          "metadata": {},
          "execution_count": 59
        }
      ]
    },
    {
      "cell_type": "markdown",
      "source": [
        "## 2.1.7 Exercises\n",
        "\n",
        "\n",
        "\n"
      ],
      "metadata": {
        "id": "pYwJNSjL_Fel"
      }
    },
    {
      "cell_type": "markdown",
      "source": [
        "1. Jalankan kode dalam bagian ini. Ubah pernyataan kondisional $X == Y$ menjadi $X < Y$ atau $X > Y$, lalu lihat jenis tensor apa yang bisa kamu dapatkan.\n",
        "\n",
        "\n"
      ],
      "metadata": {
        "id": "b9szFLch_XQV"
      }
    },
    {
      "cell_type": "code",
      "source": [
        "print(\"Hasil X < Y:\")\n",
        "print(X < Y)\n",
        "print(\"Hasil X > Y:\")\n",
        "print(X > Y)"
      ],
      "metadata": {
        "colab": {
          "base_uri": "https://localhost:8080/"
        },
        "id": "NSOiYKrn-9Jp",
        "outputId": "e8ab9de6-a05d-4c71-9e84-333a98e5bc31"
      },
      "execution_count": 60,
      "outputs": [
        {
          "output_type": "stream",
          "name": "stdout",
          "text": [
            "Hasil X < Y:\n",
            "tensor([[False, False, False, False],\n",
            "        [False, False, False, False],\n",
            "        [False, False, False, False]])\n",
            "Hasil X > Y:\n",
            "tensor([[False,  True,  True,  True],\n",
            "        [ True,  True,  True,  True],\n",
            "        [ True,  True,  True,  True]])\n"
          ]
        }
      ]
    },
    {
      "cell_type": "markdown",
      "source": [
        "2. Gantilah kedua tensor yang beroperasi secara elemen dalam mekanisme broadcasting dengan bentuk lain, misalnya, tensor berdimensi 3. Apakah hasilnya sama seperti yang diharapkan?\n"
      ],
      "metadata": {
        "id": "FzJzrM6__dED"
      }
    },
    {
      "cell_type": "code",
      "source": [
        "a = torch.arange(3).reshape((3, 1))\n",
        "b = torch.arange(6).reshape((1, 6))\n",
        "a + b"
      ],
      "metadata": {
        "colab": {
          "base_uri": "https://localhost:8080/"
        },
        "id": "FZgsNEK1_e4e",
        "outputId": "a8f4c131-b5c2-438f-be00-e57635f4052b"
      },
      "execution_count": 61,
      "outputs": [
        {
          "output_type": "execute_result",
          "data": {
            "text/plain": [
              "tensor([[0, 1, 2, 3, 4, 5],\n",
              "        [1, 2, 3, 4, 5, 6],\n",
              "        [2, 3, 4, 5, 6, 7]])"
            ]
          },
          "metadata": {},
          "execution_count": 61
        }
      ]
    }
  ]
}